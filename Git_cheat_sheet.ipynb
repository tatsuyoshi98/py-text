{
 "cells": [
  {
   "cell_type": "markdown",
   "metadata": {},
   "source": [
    "# Git cheat Sheet\n",
    "Sets of commands for useful Git operations."
   ]
  },
  {
   "cell_type": "markdown",
   "metadata": {},
   "source": [
    "## Committing and Pushing Changes to YOUR Online Repository\n",
    "\n",
    "<img src=\"img/syncing_repos_home_push.png\" alt=\"Drawing\" style=\"width: 300px;\"/>\n",
    "\n",
    "Save your work. \n",
    "\n",
    "Open a terminal\n",
    " \n",
    "Using `cd`, navigate to *inside* the ILAS_Python folder in which your textbook is stored. \n",
    "\n",
    "In the terminal type:\n",
    ">`git add -A`\n",
    "\n",
    ">`git commit -m \"A short message explaining your changes\"`\n",
    "\n",
    ">`git push`\n",
    "    \n",
    "Enter your GitHub login details when prompted. \n",
    "\n",
    "Your online remote repository should now have been updated."
   ]
  },
  {
   "cell_type": "markdown",
   "metadata": {},
   "source": [
    "## Pulling Changes from YOUR Online Repository\n",
    "\n",
    "<img src=\"img/pull.png\" alt=\"Drawing\" style=\"width: 300px;\"/>\n",
    "\n",
    "Open a terminal.\n",
    "\n",
    "Using `cd`, navigate to *inside* the ILAS_Python folder in which your textbook is stored. \n",
    "\n",
    ">`git fetch origin`\n",
    "\n",
    ">`git merge -X theirs origin/master`\n",
    "\n"
   ]
  },
  {
   "cell_type": "markdown",
   "metadata": {},
   "source": [
    "## Pulling Changes from MY Online Repository\n",
    "\n",
    "<img src=\"img/pull_upstream.png\" alt=\"Drawing\" style=\"width: 300px;\"/>\n",
    "\n",
    "Open a terminal.\n",
    "\n",
    "Using `cd`, navigate to *inside* the ILAS_Python folder in which your textbook is stored. \n",
    "\n",
    ">`git fetch upstream`\n",
    "\n",
    ">`git merge -X theirs upstream/master`\n",
    "\n",
    ">`git push`\n"
   ]
  },
  {
   "cell_type": "code",
   "execution_count": null,
   "metadata": {
    "collapsed": true
   },
   "outputs": [],
   "source": []
  }
 ],
 "metadata": {
  "kernelspec": {
   "display_name": "Python 3",
   "language": "python",
   "name": "python3"
  },
  "language_info": {
   "codemirror_mode": {
    "name": "ipython",
    "version": 3
   },
   "file_extension": ".py",
   "mimetype": "text/x-python",
   "name": "python",
   "nbconvert_exporter": "python",
   "pygments_lexer": "ipython3",
   "version": "3.6.2"
  }
 },
 "nbformat": 4,
 "nbformat_minor": 2
}
